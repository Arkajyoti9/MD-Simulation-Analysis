{
 "cells": [
  {
   "cell_type": "markdown",
   "id": "df7163f9-1f70-4238-bded-8a862956a604",
   "metadata": {},
   "source": [
    "The following script calculates the membrane contact probabilities of each residue of a protein's cytosolic domain. This is for a membrane protein in a membrane system, with a cytosolic domain extending beyond the lower leaflet."
   ]
  },
  {
   "cell_type": "code",
   "execution_count": 1,
   "id": "e30fcb09-ebc6-44c5-b2e2-a23e4032b79f",
   "metadata": {},
   "outputs": [],
   "source": [
    "# Import the required modules\n",
    "import MDAnalysis as mda\n",
    "import numpy as np\n",
    "import pandas as pd\n",
    "from tqdm import tqdm"
   ]
  },
  {
   "cell_type": "code",
   "execution_count": null,
   "id": "bf890d6f-dcdd-48b7-aec3-b792173a76f3",
   "metadata": {},
   "outputs": [],
   "source": [
    "# Load the structure file and trajectory and create the MDAnalysis Universe\n",
    "\n",
    "PSF = 'protein.psf' # Assuming the structure file is in the current directory\n",
    "XTCs = [\n",
    "    'run1_centered.xtc',\n",
    "    'run2_centered.xtc',\n",
    "] # Loading two replicate runs, centered and autoimaged using CPPTRAJ\n"
   ]
  },
  {
   "cell_type": "code",
   "execution_count": 3,
   "id": "6b015d08-6692-4c61-b3aa-8d21308e562e",
   "metadata": {},
   "outputs": [],
   "source": [
    "all_contact_counts = []\n",
    "nframes = []\n",
    "start = 1000 # Specify the starting frame for analysis, in case the first few frames need to be discarded.\n",
    "step = 1"
   ]
  },
  {
   "cell_type": "markdown",
   "id": "402b323a-ccfd-4349-b572-dea9e5197969",
   "metadata": {},
   "source": [
    "The following code assumes:<br>\n",
    "* segment id of the protein in PROA,<br>\n",
    "* the cytosolic domain is formed of residues 260 through 290<br>\n",
    "* the waters and ions are stripped from the trajectory, and only the protein and the membrane are present<br>\n",
    "* The lipids in the membrane all start with POP (POPC, POPS, POPI)"
   ]
  },
  {
   "cell_type": "code",
   "execution_count": null,
   "id": "3490e6b0-b9db-4684-9bba-ad4fd334cae9",
   "metadata": {},
   "outputs": [],
   "source": [
    "for XTC in XTCs:\n",
    "    u = mda.Universe(PSF, XTC)\n",
    "    # Define a subselection to only the residues of interest, lipid atoms of the lower part of the membrane, and only heavy atoms (no H)\n",
    "    u_sub = u.select_atoms('((segid PROA and resid 260 to 290) or (resname POP* and prop z < -12)) and not name H*')\n",
    "    protein_icd = u.select_atoms('segid PROA and resid 260 to 290')\n",
    "    nframes.append(u.trajectory.n_frames)\n",
    "\n",
    "    # Precompute the selection for each residue once\n",
    "    membrane_contact = {\n",
    "        resid: u_sub.select_atoms(f'resname POP* and around 3.5 (segid PROB and resid {resid})', # Set the custom lipid selection\n",
    "                                  updating=True) \n",
    "        for resid in protein_icd.residues.resids\n",
    "    }\n",
    "    \n",
    "    # Accumulate the counts in an array\n",
    "    residues = protein_icd.residues.resids\n",
    "    contact_count_array = np.zeros(len(residues), dtype=int)\n",
    "    \n",
    "    # Iterate over each frame and compute contacts\n",
    "    for ts in tqdm(u.trajectory[start::step]):\n",
    "        # Create a temporary array for current frame\n",
    "        frame_contacts = np.zeros(len(residues), dtype=int)\n",
    "        \n",
    "        # Update the frame_contacts array in one pass\n",
    "        for idx, (resid, sel) in enumerate(membrane_contact.items()):\n",
    "            if sel.n_atoms > 0:\n",
    "                frame_contacts[idx] = 1\n",
    "        \n",
    "        # Accumulate frame contacts into the main contact count array\n",
    "        contact_count_array += frame_contacts\n",
    "\n",
    "    # Append the contact count array for this trajectory to the all contacts list\n",
    "    all_contact_counts.append(contact_count_array)\n"
   ]
  },
  {
   "cell_type": "code",
   "execution_count": null,
   "id": "9f4ade32-b9ef-42df-80aa-11ff2d54b396",
   "metadata": {},
   "outputs": [],
   "source": [
    "# Calculate the contact frequencies (contact count/number of frames)\n",
    "contact_freqs = [\n",
    "    all_contact_counts[0]/(nframes[0]-start),\n",
    "    all_contact_counts[1]/(nframes[1]-start),\n",
    "]\n",
    "\n",
    "contact_freqs_array = np.array(contact_freqs)\n",
    "contact_freqs_array"
   ]
  },
  {
   "cell_type": "code",
   "execution_count": null,
   "id": "f79c2726-7230-4b28-882c-7d04a3ee7bba",
   "metadata": {},
   "outputs": [],
   "source": [
    "# Save the contact frequencies into a CSV file\n",
    "\n",
    "contact_freq_df = pd.DataFrame(\n",
    "    contact_freqs_array,\n",
    "    columns=residues, \n",
    "    index=[f'RUN_{i+1}' for i in range(len(XTCs))]\n",
    ").transpose()\n",
    "\n",
    "contact_freq_df.to_csv('membrane_contact_freq_per_residue.csv', header=True)\n",
    "contact_freq_df"
   ]
  }
 ],
 "metadata": {
  "kernelspec": {
   "display_name": "Python 3 (ipykernel)",
   "language": "python",
   "name": "python3"
  },
  "language_info": {
   "codemirror_mode": {
    "name": "ipython",
    "version": 3
   },
   "file_extension": ".py",
   "mimetype": "text/x-python",
   "name": "python",
   "nbconvert_exporter": "python",
   "pygments_lexer": "ipython3",
   "version": "3.12.4"
  }
 },
 "nbformat": 4,
 "nbformat_minor": 5
}
